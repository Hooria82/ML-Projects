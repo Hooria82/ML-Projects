{
 "cells": [
  {
   "cell_type": "code",
   "execution_count": 1,
   "metadata": {},
   "outputs": [
    {
     "name": "stdout",
     "output_type": "stream",
     "text": [
      "Accuracy: 0.9722222222222222\n",
      "Confusion Matrix:\n",
      "[[14  0]\n",
      " [ 1 21]]\n",
      "Classification Report:\n",
      "              precision    recall  f1-score   support\n",
      "\n",
      "         ham       0.93      1.00      0.97        14\n",
      "        spam       1.00      0.95      0.98        22\n",
      "\n",
      "    accuracy                           0.97        36\n",
      "   macro avg       0.97      0.98      0.97        36\n",
      "weighted avg       0.97      0.97      0.97        36\n",
      "\n"
     ]
    }
   ],
   "source": [
    "import pandas as pd\n",
    "from sklearn.feature_extraction.text import TfidfVectorizer\n",
    "from sklearn.model_selection import train_test_split\n",
    "from sklearn.naive_bayes import MultinomialNB\n",
    "from sklearn.metrics import accuracy_score, confusion_matrix, classification_report\n",
    "import nltk\n",
    "from nltk.corpus import stopwords\n",
    "from nltk.tokenize import word_tokenize\n",
    "import string\n",
    "\n",
    "\n",
    "\n",
    "data = pd.read_csv('email_classification.csv')\n",
    "\n",
    "\n",
    "def preprocess_text(text):\n",
    "  \n",
    "    tokens = word_tokenize(text)\n",
    "    \n",
    "   \n",
    "    tokens = [word.lower() for word in tokens if word.isalpha()]\n",
    "    \n",
    "   \n",
    "    stop_words = set(stopwords.words('english'))\n",
    "    tokens = [word for word in tokens if word not in stop_words]\n",
    "    \n",
    "    return ' '.join(tokens)\n",
    "\n",
    "data['text'] = data['text'].apply(preprocess_text)\n",
    "\n",
    "\n",
    "X = data['text']\n",
    "y = data['label']\n",
    "X_train, X_test, y_train, y_test = train_test_split(X, y, test_size=0.2, random_state=42)\n",
    "\n",
    "tfidf_vectorizer = TfidfVectorizer()\n",
    "X_train_tfidf = tfidf_vectorizer.fit_transform(X_train)\n",
    "X_test_tfidf = tfidf_vectorizer.transform(X_test)\n",
    "\n",
    "\n",
    "model = MultinomialNB()\n",
    "model.fit(X_train_tfidf, y_train)\n",
    "\n",
    "\n",
    "y_pred = model.predict(X_test_tfidf)\n",
    "\n",
    "\n",
    "accuracy = accuracy_score(y_test, y_pred)\n",
    "conf_matrix = confusion_matrix(y_test, y_pred)\n",
    "class_report = classification_report(y_test, y_pred)\n",
    "\n",
    "print(f'Accuracy: {accuracy}')\n",
    "print('Confusion Matrix:')\n",
    "print(conf_matrix)\n",
    "print('Classification Report:')\n",
    "print(class_report)\n"
   ]
  },
  {
   "cell_type": "code",
   "execution_count": 2,
   "metadata": {},
   "outputs": [
    {
     "data": {
      "text/plain": [
       "['vectorizer.pkl']"
      ]
     },
     "execution_count": 2,
     "metadata": {},
     "output_type": "execute_result"
    }
   ],
   "source": [
    "import joblib\n",
    "\n",
    "joblib.dump(model,'model.pkl')\n",
    "joblib.dump(tfidf_vectorizer,'vectorizer.pkl')"
   ]
  },
  {
   "cell_type": "code",
   "execution_count": 3,
   "metadata": {},
   "outputs": [
    {
     "name": "stdout",
     "output_type": "stream",
     "text": [
      "Prediction: Spam with 83.02% probability\n"
     ]
    }
   ],
   "source": [
    "import joblib\n",
    "import numpy as np\n",
    "\n",
    "model = joblib.load('model.pkl')\n",
    "vectorizer = joblib.load('vectorizer.pkl')\n",
    "\n",
    "\n",
    "\n",
    "email_text=\"Your Amazon account has been locked. Click here to verify your account information\"\n",
    "\n",
    "\n",
    "email_vector = vectorizer.transform([email_text])\n",
    "\n",
    "\n",
    "prediction = model.predict(email_vector)\n",
    "prediction_proba = model.predict_proba(email_vector)\n",
    "\n",
    "\n",
    "if prediction[0] == 0:\n",
    "    prediction_result = 'Not Spam'\n",
    "    prob = prediction_proba[0][0] * 100\n",
    "else:\n",
    "    prediction_result = 'Spam'\n",
    "    prob = prediction_proba[0][1] * 100\n",
    "\n",
    "print(f\"Prediction: {prediction_result} with {prob:.2f}% probability\")\n"
   ]
  },
  {
   "cell_type": "code",
   "execution_count": 4,
   "metadata": {},
   "outputs": [
    {
     "name": "stdout",
     "output_type": "stream",
     "text": [
      "Email: hey click here to see magic\n",
      "Prediction: Spam with 58.17% probability\n",
      "\n",
      "Email: this is a normal email with no spammy content\n",
      "Prediction: Spam with 43.92% probability\n",
      "\n",
      "Email: urgent! your account has been compromised, click here to reset your password\n",
      "Prediction: Spam with 76.35% probability\n",
      "\n",
      "Email: meeting schedule for next week\n",
      "Prediction: Spam with 26.64% probability\n",
      "\n",
      "Email: free money, click now to claim your prize!\n",
      "Prediction: Spam with 93.26% probability\n",
      "\n"
     ]
    }
   ],
   "source": [
    "model = joblib.load('model.pkl')\n",
    "vectorizer = joblib.load('vectorizer.pkl')\n",
    "\n",
    "\n",
    "emails = [\n",
    "    \"hey click here to see magic\",\n",
    "    \"this is a normal email with no spammy content\",\n",
    "    \"urgent! your account has been compromised, click here to reset your password\",\n",
    "    \"meeting schedule for next week\",\n",
    "    \"free money, click now to claim your prize!\"\n",
    "]\n",
    "\n",
    "for email_text in emails:\n",
    "    \n",
    "    email_vector = vectorizer.transform([email_text])\n",
    "\n",
    "    prediction = model.predict(email_vector)\n",
    "    prediction_proba = model.predict_proba(email_vector)\n",
    "\n",
    "    if prediction[0] == 0:\n",
    "        prediction_result = 'Not Spam'\n",
    "        prob = prediction_proba[0][0] * 100\n",
    "    else:\n",
    "        prediction_result = 'Spam'\n",
    "        prob = prediction_proba[0][1] * 100\n",
    "\n",
    "    print(f\"Email: {email_text}\")\n",
    "    print(f\"Prediction: {prediction_result} with {prob:.2f}% probability\\n\")\n"
   ]
  }
 ],
 "metadata": {
  "kernelspec": {
   "display_name": "base",
   "language": "python",
   "name": "python3"
  },
  "language_info": {
   "codemirror_mode": {
    "name": "ipython",
    "version": 3
   },
   "file_extension": ".py",
   "mimetype": "text/x-python",
   "name": "python",
   "nbconvert_exporter": "python",
   "pygments_lexer": "ipython3",
   "version": "3.11.4"
  }
 },
 "nbformat": 4,
 "nbformat_minor": 2
}
